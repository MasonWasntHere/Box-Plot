{
  "metadata": {
    "kernelspec": {
      "name": "xpython",
      "display_name": "Python 3.13 (XPython)",
      "language": "python"
    },
    "language_info": {
      "file_extension": ".py",
      "mimetype": "text/x-python",
      "name": "python",
      "version": "3.13.1"
    }
  },
  "nbformat_minor": 5,
  "nbformat": 4,
  "cells": [
    {
      "id": "7d440885-4184-43a7-8eac-c37e86de2210",
      "cell_type": "code",
      "source": "import numpy as np\nimport matplotlib.pyplot as plt\n\ndata = np.loadtxt(\"SOCR-HeightWeight.csv\", delimiter=\",\", skiprows=1)[:, 1]\n\n# calculate quartiles and IQR\ndata_sorted = np.sort(data)\nmid = len(data_sorted) // 2\nQ1 = np.median(data_sorted[:mid])\nQ2 = np.median(data_sorted)\nQ3 = np.median(data_sorted[mid:])\nIQR = Q3 - Q1\n\nlower_fence = Q1 - 1.5 * IQR\nupper_fence = Q3 + 1.5 * IQR\n\n# detect outliers \noutliers = data[(data < lower_fence) | (data > upper_fence)]\nnon_outliers = data[(data >= lower_fence) & (data <= upper_fence)]\n\nwhisker_min = np.min(non_outliers)\nwhisker_max = np.max(non_outliers)\n\nprint(f\"Q1: {Q1:.2f}\")\nprint(f\"Median: {Q2:.2f}\")\nprint(f\"Q3: {Q3:.2f}\")\nprint(f\"IQR: {IQR:.2f}\")\nprint(f\"Whisker min (non-outlier min): {whisker_min:.2f}\")\nprint(f\"Whisker max (non-outlier max): {whisker_max:.2f}\")\nprint(f\"Number of outliers: {len(outliers)}\")\nprint(f\"Outliers (first 10): {[round(x,2) for x in outliers[:10]]}\" + (f\", ... and {len(outliers)-10} more\" if len(outliers) > 10 else \"\"))\n\n# plot boxplot \nplt.figure(figsize=(8, 5))\nplt.boxplot(data, vert=False, showfliers=False)\nplt.title(\"Box and Whisker Plot of Heights\")\nplt.xlabel(\"Height (inches)\")\n\n# show outliers as red stars\ny = 1  # y position of the horizontal plot\nplt.scatter(outliers, np.ones_like(outliers)*y, color='red', marker='*', s=100, label='Outliers')\n\n",
      "metadata": {
        "trusted": true
      },
      "outputs": [
        {
          "output_type": "stream",
          "name": "stdin",
          "text": "Enter your height in inches:  68.875\n"
        },
        {
          "name": "stdout",
          "output_type": "stream",
          "text": "You are in the 67.85 percentile.\n"
        }
      ],
      "execution_count": 14
    }
  ]
}